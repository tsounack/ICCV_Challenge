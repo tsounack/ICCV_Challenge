{
 "cells": [
  {
   "cell_type": "code",
   "execution_count": 22,
   "metadata": {},
   "outputs": [],
   "source": [
    "import numpy as np\n",
    "import pandas as pd"
   ]
  },
  {
   "cell_type": "code",
   "execution_count": 23,
   "metadata": {},
   "outputs": [],
   "source": [
    "# Read the labels from the labels.tok file\n",
    "with open('labels.tok', 'r') as labels_file:\n",
    "    labels = labels_file.read().splitlines()\n",
    "labels = labels[1:] # Remove the first line"
   ]
  },
  {
   "cell_type": "code",
   "execution_count": 24,
   "metadata": {},
   "outputs": [],
   "source": [
    "def read_hyp_file(path):\n",
    "    data = []\n",
    "    with open(path, 'r') as file:\n",
    "        lines = file.readlines()\n",
    "        sublist = []\n",
    "        for line in lines:\n",
    "            line = line.strip()\n",
    "            \n",
    "            if line.startswith('['):\n",
    "                sublist = [float(value) for value in line[1:-1].split()]\n",
    "            elif line.endswith(']'):\n",
    "                sublist += [float(value) for value in line[:-1].split()]\n",
    "                data.append(sublist)\n",
    "            else:\n",
    "                sublist += [float(value) for value in line.split()]\n",
    "    return data"
   ]
  },
  {
   "cell_type": "code",
   "execution_count": 25,
   "metadata": {},
   "outputs": [],
   "source": [
    "# Read the file\n",
    "data = read_hyp_file('hyps.txt')"
   ]
  },
  {
   "cell_type": "code",
   "execution_count": 26,
   "metadata": {},
   "outputs": [
    {
     "data": {
      "text/plain": [
       "75492"
      ]
     },
     "execution_count": 26,
     "metadata": {},
     "output_type": "execute_result"
    }
   ],
   "source": [
    "len(data)"
   ]
  },
  {
   "cell_type": "code",
   "execution_count": 27,
   "metadata": {},
   "outputs": [
    {
     "name": "stdout",
     "output_type": "stream",
     "text": [
      "The CSV file contains 75493 lines.\n"
     ]
    }
   ],
   "source": [
    "import csv\n",
    "\n",
    "def count_lines(csv_file):\n",
    "    with open(csv_file, 'r') as file:\n",
    "        reader = csv.reader(file)\n",
    "        line_count = sum(1 for row in reader)\n",
    "    return line_count\n",
    "\n",
    "csv_file = 'test.csv'\n",
    "num_lines = count_lines(csv_file)\n",
    "print(f\"The CSV file contains {num_lines} lines.\")"
   ]
  },
  {
   "cell_type": "code",
   "execution_count": 28,
   "metadata": {},
   "outputs": [],
   "source": [
    "df_predictions = pd.DataFrame(data, columns=labels)"
   ]
  },
  {
   "cell_type": "code",
   "execution_count": 29,
   "metadata": {},
   "outputs": [],
   "source": [
    "from sklearn.preprocessing import MinMaxScaler\n",
    "\n",
    "scaler = MinMaxScaler()\n",
    "normalized_data = scaler.fit_transform(df_predictions.values)\n",
    "df_predictions = pd.DataFrame(normalized_data, columns=df_predictions.columns)"
   ]
  },
  {
   "attachments": {},
   "cell_type": "markdown",
   "metadata": {},
   "source": [
    "Thresholding"
   ]
  },
  {
   "cell_type": "code",
   "execution_count": 30,
   "metadata": {},
   "outputs": [],
   "source": [
    "# # create ground truth and predictions dataframes for validation set\n",
    "\n",
    "# df_validation_pred = pd.DataFrame(read_hyp_file('validation_hyps.txt'), columns=labels)\n",
    "# df_validation_gt = pd.DataFrame(read_hyp_file('validation_refs.txt'), columns=labels)\n",
    "\n",
    "# scaler = MinMaxScaler()\n",
    "# normalized_data = scaler.fit_transform(df_validation_pred.values)\n",
    "# df_validation_pred = pd.DataFrame(normalized_data, columns=df_validation_pred.columns)"
   ]
  },
  {
   "cell_type": "code",
   "execution_count": 31,
   "metadata": {},
   "outputs": [],
   "source": [
    "# from sklearn.metrics import accuracy_score, precision_score, recall_score, f1_score\n",
    "\n",
    "# ground_truth = df_validation_gt['No positive label'].values\n",
    "\n",
    "# best_threshold = None\n",
    "# best_metric_score = 0.0\n",
    "\n",
    "# for threshold in np.linspace(0, 1, num=100):\n",
    "#     predicted = np.where(df_validation_pred['No positive label'] >= threshold, 1, 0)\n",
    "#     metric_score = accuracy_score(ground_truth, predicted)\n",
    "#     if metric_score > best_metric_score:\n",
    "#         best_threshold = threshold\n",
    "#         best_metric_score = metric_score\n",
    "\n",
    "# print(\"Best Threshold:\", best_threshold)\n",
    "# print(\"Best Metric Score:\", best_metric_score)"
   ]
  },
  {
   "cell_type": "code",
   "execution_count": 32,
   "metadata": {},
   "outputs": [],
   "source": [
    "# threshold = best_threshold\n",
    "threshold = 0.98989898989899"
   ]
  },
  {
   "cell_type": "code",
   "execution_count": 33,
   "metadata": {},
   "outputs": [],
   "source": [
    "# Remove all predictions that are seen as without label\n",
    "df_predictions.loc[df_predictions['No positive label'] > threshold, :] = 0\n",
    "df_predictions = df_predictions.drop('No positive label', axis=1)"
   ]
  },
  {
   "cell_type": "code",
   "execution_count": 34,
   "metadata": {},
   "outputs": [],
   "source": [
    "csv_file_path = 'test.csv'\n",
    "df_csv = pd.read_csv(csv_file_path)\n",
    "first_column = df_csv.iloc[:, 0]"
   ]
  },
  {
   "cell_type": "code",
   "execution_count": 35,
   "metadata": {},
   "outputs": [],
   "source": [
    "# Add dicom ids\n",
    "# numbers = []\n",
    "# with open('test_dicoms.tok', 'r') as file:\n",
    "#     lines = file.readlines()\n",
    "#     for line in lines:\n",
    "#         number = line.split('/')[-1].split('.')[0]\n",
    "#         numbers.append(number)\n",
    "\n",
    "df_predictions.insert(0, 'dicom_id', first_column)"
   ]
  },
  {
   "cell_type": "code",
   "execution_count": 36,
   "metadata": {},
   "outputs": [],
   "source": [
    "for column in df_predictions.columns[1:]:\n",
    "    df_predictions.loc[df_predictions[column] >= 1, column] = 1\n",
    "    df_predictions.loc[df_predictions[column] <= 0, column] = 0"
   ]
  },
  {
   "cell_type": "code",
   "execution_count": 37,
   "metadata": {},
   "outputs": [
    {
     "data": {
      "text/html": [
       "<div>\n",
       "<style scoped>\n",
       "    .dataframe tbody tr th:only-of-type {\n",
       "        vertical-align: middle;\n",
       "    }\n",
       "\n",
       "    .dataframe tbody tr th {\n",
       "        vertical-align: top;\n",
       "    }\n",
       "\n",
       "    .dataframe thead th {\n",
       "        text-align: right;\n",
       "    }\n",
       "</style>\n",
       "<table border=\"1\" class=\"dataframe\">\n",
       "  <thead>\n",
       "    <tr style=\"text-align: right;\">\n",
       "      <th></th>\n",
       "      <th>dicom_id</th>\n",
       "      <th>Pneumomediastinum</th>\n",
       "      <th>Pneumothorax</th>\n",
       "      <th>Tortuous Aorta</th>\n",
       "      <th>Atelectasis</th>\n",
       "      <th>Pleural Other</th>\n",
       "      <th>Pleural Thickening</th>\n",
       "      <th>Fracture</th>\n",
       "      <th>Lung Opacity</th>\n",
       "      <th>Edema</th>\n",
       "      <th>...</th>\n",
       "      <th>Infiltration</th>\n",
       "      <th>Pneumonia</th>\n",
       "      <th>Calcification of the Aorta</th>\n",
       "      <th>Hernia</th>\n",
       "      <th>Nodule</th>\n",
       "      <th>Pleural Effusion</th>\n",
       "      <th>Enlarged Cardiomediastinum</th>\n",
       "      <th>Mass</th>\n",
       "      <th>Support Devices</th>\n",
       "      <th>Subcutaneous Emphysema</th>\n",
       "    </tr>\n",
       "  </thead>\n",
       "  <tbody>\n",
       "    <tr>\n",
       "      <th>0</th>\n",
       "      <td>d0b71acc-b5a62046-bbb5f6b8-7b173b85-65cdf738</td>\n",
       "      <td>0.169517</td>\n",
       "      <td>0.670197</td>\n",
       "      <td>0.638955</td>\n",
       "      <td>0.144436</td>\n",
       "      <td>0.634753</td>\n",
       "      <td>0.053983</td>\n",
       "      <td>0.674476</td>\n",
       "      <td>0.642324</td>\n",
       "      <td>0.061954</td>\n",
       "      <td>...</td>\n",
       "      <td>0.276915</td>\n",
       "      <td>0.180555</td>\n",
       "      <td>0.323324</td>\n",
       "      <td>0.620464</td>\n",
       "      <td>0.291272</td>\n",
       "      <td>0.071654</td>\n",
       "      <td>0.205115</td>\n",
       "      <td>0.348954</td>\n",
       "      <td>0.203908</td>\n",
       "      <td>0.546325</td>\n",
       "    </tr>\n",
       "    <tr>\n",
       "      <th>1</th>\n",
       "      <td>3be619d1-506a66cf-ff1ab8a1-2efb77bb-fe7d59fc</td>\n",
       "      <td>0.300663</td>\n",
       "      <td>0.684342</td>\n",
       "      <td>0.389382</td>\n",
       "      <td>0.242658</td>\n",
       "      <td>0.584519</td>\n",
       "      <td>0.137125</td>\n",
       "      <td>0.380047</td>\n",
       "      <td>0.593610</td>\n",
       "      <td>0.107091</td>\n",
       "      <td>...</td>\n",
       "      <td>0.367867</td>\n",
       "      <td>0.249902</td>\n",
       "      <td>0.320618</td>\n",
       "      <td>0.642996</td>\n",
       "      <td>0.387693</td>\n",
       "      <td>0.123840</td>\n",
       "      <td>0.304177</td>\n",
       "      <td>0.430744</td>\n",
       "      <td>0.291792</td>\n",
       "      <td>0.470880</td>\n",
       "    </tr>\n",
       "    <tr>\n",
       "      <th>2</th>\n",
       "      <td>9b314ad7-fbcb0422-6db62dfc-732858d0-a5527d8b</td>\n",
       "      <td>0.221213</td>\n",
       "      <td>0.816509</td>\n",
       "      <td>0.584521</td>\n",
       "      <td>0.295778</td>\n",
       "      <td>0.759532</td>\n",
       "      <td>0.077791</td>\n",
       "      <td>0.699801</td>\n",
       "      <td>0.809538</td>\n",
       "      <td>0.094591</td>\n",
       "      <td>...</td>\n",
       "      <td>0.458704</td>\n",
       "      <td>0.385597</td>\n",
       "      <td>0.543361</td>\n",
       "      <td>0.516679</td>\n",
       "      <td>0.498094</td>\n",
       "      <td>0.094852</td>\n",
       "      <td>0.372938</td>\n",
       "      <td>0.291618</td>\n",
       "      <td>0.184312</td>\n",
       "      <td>0.701100</td>\n",
       "    </tr>\n",
       "    <tr>\n",
       "      <th>3</th>\n",
       "      <td>6a5c3985-7764bdd0-ec5a6a74-af78bcaa-4ca33ec3</td>\n",
       "      <td>0.423000</td>\n",
       "      <td>0.526573</td>\n",
       "      <td>0.382708</td>\n",
       "      <td>0.436789</td>\n",
       "      <td>0.498957</td>\n",
       "      <td>0.305980</td>\n",
       "      <td>0.294822</td>\n",
       "      <td>0.381068</td>\n",
       "      <td>0.383320</td>\n",
       "      <td>...</td>\n",
       "      <td>0.547701</td>\n",
       "      <td>0.412795</td>\n",
       "      <td>0.410245</td>\n",
       "      <td>0.458032</td>\n",
       "      <td>0.503042</td>\n",
       "      <td>0.313026</td>\n",
       "      <td>0.509457</td>\n",
       "      <td>0.394524</td>\n",
       "      <td>0.275012</td>\n",
       "      <td>0.409420</td>\n",
       "    </tr>\n",
       "    <tr>\n",
       "      <th>4</th>\n",
       "      <td>c50494f1-90e2bff5-e9189550-1a4562fd-6ab5204c</td>\n",
       "      <td>0.443502</td>\n",
       "      <td>0.458464</td>\n",
       "      <td>0.369382</td>\n",
       "      <td>0.481704</td>\n",
       "      <td>0.462845</td>\n",
       "      <td>0.315876</td>\n",
       "      <td>0.308608</td>\n",
       "      <td>0.397049</td>\n",
       "      <td>0.460156</td>\n",
       "      <td>...</td>\n",
       "      <td>0.619278</td>\n",
       "      <td>0.448103</td>\n",
       "      <td>0.395425</td>\n",
       "      <td>0.638857</td>\n",
       "      <td>0.500293</td>\n",
       "      <td>0.369428</td>\n",
       "      <td>0.631260</td>\n",
       "      <td>0.349194</td>\n",
       "      <td>0.341160</td>\n",
       "      <td>0.507027</td>\n",
       "    </tr>\n",
       "  </tbody>\n",
       "</table>\n",
       "<p>5 rows × 27 columns</p>\n",
       "</div>"
      ],
      "text/plain": [
       "                                       dicom_id  Pneumomediastinum  \\\n",
       "0  d0b71acc-b5a62046-bbb5f6b8-7b173b85-65cdf738           0.169517   \n",
       "1  3be619d1-506a66cf-ff1ab8a1-2efb77bb-fe7d59fc           0.300663   \n",
       "2  9b314ad7-fbcb0422-6db62dfc-732858d0-a5527d8b           0.221213   \n",
       "3  6a5c3985-7764bdd0-ec5a6a74-af78bcaa-4ca33ec3           0.423000   \n",
       "4  c50494f1-90e2bff5-e9189550-1a4562fd-6ab5204c           0.443502   \n",
       "\n",
       "   Pneumothorax  Tortuous Aorta  Atelectasis  Pleural Other  \\\n",
       "0      0.670197        0.638955     0.144436       0.634753   \n",
       "1      0.684342        0.389382     0.242658       0.584519   \n",
       "2      0.816509        0.584521     0.295778       0.759532   \n",
       "3      0.526573        0.382708     0.436789       0.498957   \n",
       "4      0.458464        0.369382     0.481704       0.462845   \n",
       "\n",
       "   Pleural Thickening  Fracture  Lung Opacity     Edema  ...  Infiltration  \\\n",
       "0            0.053983  0.674476      0.642324  0.061954  ...      0.276915   \n",
       "1            0.137125  0.380047      0.593610  0.107091  ...      0.367867   \n",
       "2            0.077791  0.699801      0.809538  0.094591  ...      0.458704   \n",
       "3            0.305980  0.294822      0.381068  0.383320  ...      0.547701   \n",
       "4            0.315876  0.308608      0.397049  0.460156  ...      0.619278   \n",
       "\n",
       "   Pneumonia  Calcification of the Aorta    Hernia    Nodule  \\\n",
       "0   0.180555                    0.323324  0.620464  0.291272   \n",
       "1   0.249902                    0.320618  0.642996  0.387693   \n",
       "2   0.385597                    0.543361  0.516679  0.498094   \n",
       "3   0.412795                    0.410245  0.458032  0.503042   \n",
       "4   0.448103                    0.395425  0.638857  0.500293   \n",
       "\n",
       "   Pleural Effusion  Enlarged Cardiomediastinum      Mass  Support Devices  \\\n",
       "0          0.071654                    0.205115  0.348954         0.203908   \n",
       "1          0.123840                    0.304177  0.430744         0.291792   \n",
       "2          0.094852                    0.372938  0.291618         0.184312   \n",
       "3          0.313026                    0.509457  0.394524         0.275012   \n",
       "4          0.369428                    0.631260  0.349194         0.341160   \n",
       "\n",
       "   Subcutaneous Emphysema  \n",
       "0                0.546325  \n",
       "1                0.470880  \n",
       "2                0.701100  \n",
       "3                0.409420  \n",
       "4                0.507027  \n",
       "\n",
       "[5 rows x 27 columns]"
      ]
     },
     "execution_count": 37,
     "metadata": {},
     "output_type": "execute_result"
    }
   ],
   "source": [
    "df_predictions.head()"
   ]
  },
  {
   "cell_type": "code",
   "execution_count": 38,
   "metadata": {},
   "outputs": [],
   "source": [
    "df_predictions.to_csv('submission.csv', index=False)"
   ]
  },
  {
   "cell_type": "code",
   "execution_count": null,
   "metadata": {},
   "outputs": [],
   "source": []
  }
 ],
 "metadata": {
  "kernelspec": {
   "display_name": "Thomas",
   "language": "python",
   "name": "python3"
  },
  "language_info": {
   "codemirror_mode": {
    "name": "ipython",
    "version": 3
   },
   "file_extension": ".py",
   "mimetype": "text/x-python",
   "name": "python",
   "nbconvert_exporter": "python",
   "pygments_lexer": "ipython3",
   "version": "3.10.9"
  },
  "orig_nbformat": 4
 },
 "nbformat": 4,
 "nbformat_minor": 2
}
