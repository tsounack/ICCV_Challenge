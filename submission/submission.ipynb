{
 "cells": [
  {
   "cell_type": "code",
   "execution_count": 34,
   "metadata": {},
   "outputs": [],
   "source": [
    "import numpy as np\n",
    "import pandas as pd"
   ]
  },
  {
   "cell_type": "code",
   "execution_count": 35,
   "metadata": {},
   "outputs": [],
   "source": [
    "# Read the labels from the labels.tok file\n",
    "with open('labels.tok', 'r') as labels_file:\n",
    "    labels = labels_file.read().splitlines()\n",
    "labels = labels[1:] # Remove the first line"
   ]
  },
  {
   "cell_type": "code",
   "execution_count": 36,
   "metadata": {},
   "outputs": [],
   "source": [
    "def read_hyp_file(path):\n",
    "    data = []\n",
    "    with open(path, 'r') as file:\n",
    "        lines = file.readlines()\n",
    "        sublist = []\n",
    "        for line in lines:\n",
    "            line = line.strip()\n",
    "            \n",
    "            if line.startswith('['):\n",
    "                sublist = [float(value) for value in line[1:-1].split()]\n",
    "            elif line.endswith(']'):\n",
    "                sublist += [float(value) for value in line[:-1].split()]\n",
    "                data.append(sublist)\n",
    "            else:\n",
    "                sublist += [float(value) for value in line.split()]\n",
    "    return data"
   ]
  },
  {
   "cell_type": "code",
   "execution_count": 37,
   "metadata": {},
   "outputs": [],
   "source": [
    "# Read the file\n",
    "data = read_hyp_file('hyps.txt')"
   ]
  },
  {
   "cell_type": "code",
   "execution_count": 38,
   "metadata": {},
   "outputs": [
    {
     "data": {
      "text/plain": [
       "36769"
      ]
     },
     "execution_count": 38,
     "metadata": {},
     "output_type": "execute_result"
    }
   ],
   "source": [
    "len(data)"
   ]
  },
  {
   "cell_type": "code",
   "execution_count": 39,
   "metadata": {},
   "outputs": [
    {
     "name": "stdout",
     "output_type": "stream",
     "text": [
      "The CSV file contains 36770 lines.\n"
     ]
    }
   ],
   "source": [
    "import csv\n",
    "\n",
    "def count_lines(csv_file):\n",
    "    with open(csv_file, 'r') as file:\n",
    "        reader = csv.reader(file)\n",
    "        line_count = sum(1 for row in reader)\n",
    "    return line_count\n",
    "\n",
    "csv_file = 'development.csv'\n",
    "num_lines = count_lines(csv_file)\n",
    "print(f\"The CSV file contains {num_lines} lines.\")"
   ]
  },
  {
   "cell_type": "code",
   "execution_count": 40,
   "metadata": {},
   "outputs": [],
   "source": [
    "df_predictions = pd.DataFrame(data, columns=labels)"
   ]
  },
  {
   "cell_type": "code",
   "execution_count": 41,
   "metadata": {},
   "outputs": [],
   "source": [
    "from sklearn.preprocessing import MinMaxScaler\n",
    "\n",
    "scaler = MinMaxScaler()\n",
    "normalized_data = scaler.fit_transform(df_predictions.values)\n",
    "df_predictions = pd.DataFrame(normalized_data, columns=df_predictions.columns)"
   ]
  },
  {
   "attachments": {},
   "cell_type": "markdown",
   "metadata": {},
   "source": [
    "Thresholding"
   ]
  },
  {
   "cell_type": "code",
   "execution_count": 42,
   "metadata": {},
   "outputs": [],
   "source": [
    "# create ground truth and predictions dataframes for validation set\n",
    "\n",
    "df_validation_pred = pd.DataFrame(read_hyp_file('validation_hyps.txt'), columns=labels)\n",
    "df_validation_gt = pd.DataFrame(read_hyp_file('validation_refs.txt'), columns=labels)\n",
    "\n",
    "scaler = MinMaxScaler()\n",
    "normalized_data = scaler.fit_transform(df_validation_pred.values)\n",
    "df_validation_pred = pd.DataFrame(normalized_data, columns=df_validation_pred.columns)"
   ]
  },
  {
   "cell_type": "code",
   "execution_count": 43,
   "metadata": {},
   "outputs": [
    {
     "name": "stdout",
     "output_type": "stream",
     "text": [
      "Best Threshold: 0.98989898989899\n",
      "Best Metric Score: 0.9637523834695766\n"
     ]
    }
   ],
   "source": [
    "from sklearn.metrics import accuracy_score, precision_score, recall_score, f1_score\n",
    "\n",
    "ground_truth = df_validation_gt['No positive label'].values\n",
    "\n",
    "best_threshold = None\n",
    "best_metric_score = 0.0\n",
    "\n",
    "for threshold in np.linspace(0, 1, num=100):\n",
    "    predicted = np.where(df_validation_pred['No positive label'] >= threshold, 1, 0)\n",
    "    metric_score = accuracy_score(ground_truth, predicted)\n",
    "    if metric_score > best_metric_score:\n",
    "        best_threshold = threshold\n",
    "        best_metric_score = metric_score\n",
    "\n",
    "print(\"Best Threshold:\", best_threshold)\n",
    "print(\"Best Metric Score:\", best_metric_score)"
   ]
  },
  {
   "cell_type": "code",
   "execution_count": 44,
   "metadata": {},
   "outputs": [],
   "source": [
    "threshold = best_threshold"
   ]
  },
  {
   "cell_type": "code",
   "execution_count": 45,
   "metadata": {},
   "outputs": [],
   "source": [
    "# Remove all predictions that are seen as without label\n",
    "df_predictions.loc[df_predictions['No positive label'] > threshold, :] = 0\n",
    "df_predictions = df_predictions.drop('No positive label', axis=1)"
   ]
  },
  {
   "cell_type": "code",
   "execution_count": 46,
   "metadata": {},
   "outputs": [],
   "source": [
    "# Add dicom ids\n",
    "numbers = []\n",
    "with open('test_dicoms.tok', 'r') as file:\n",
    "    lines = file.readlines()\n",
    "    for line in lines:\n",
    "        number = line.split('/')[-1].split('.')[0]\n",
    "        numbers.append(number)\n",
    "\n",
    "df_predictions.insert(0, 'dicom_id', numbers)"
   ]
  },
  {
   "cell_type": "code",
   "execution_count": 47,
   "metadata": {},
   "outputs": [
    {
     "data": {
      "text/html": [
       "<div>\n",
       "<style scoped>\n",
       "    .dataframe tbody tr th:only-of-type {\n",
       "        vertical-align: middle;\n",
       "    }\n",
       "\n",
       "    .dataframe tbody tr th {\n",
       "        vertical-align: top;\n",
       "    }\n",
       "\n",
       "    .dataframe thead th {\n",
       "        text-align: right;\n",
       "    }\n",
       "</style>\n",
       "<table border=\"1\" class=\"dataframe\">\n",
       "  <thead>\n",
       "    <tr style=\"text-align: right;\">\n",
       "      <th></th>\n",
       "      <th>dicom_id</th>\n",
       "      <th>Fracture</th>\n",
       "      <th>Pneumonia</th>\n",
       "      <th>Cardiomegaly</th>\n",
       "      <th>Pleural Other</th>\n",
       "      <th>Infiltration</th>\n",
       "      <th>Pneumomediastinum</th>\n",
       "      <th>Edema</th>\n",
       "      <th>Lung Opacity</th>\n",
       "      <th>Pneumothorax</th>\n",
       "      <th>...</th>\n",
       "      <th>Emphysema</th>\n",
       "      <th>Fibrosis</th>\n",
       "      <th>Atelectasis</th>\n",
       "      <th>Nodule</th>\n",
       "      <th>Subcutaneous Emphysema</th>\n",
       "      <th>Pneumoperitoneum</th>\n",
       "      <th>Lung Lesion</th>\n",
       "      <th>Enlarged Cardiomediastinum</th>\n",
       "      <th>Support Devices</th>\n",
       "      <th>Consolidation</th>\n",
       "    </tr>\n",
       "  </thead>\n",
       "  <tbody>\n",
       "    <tr>\n",
       "      <th>0</th>\n",
       "      <td>2833b85f-3bb4273f-cffd3794-2bf2cd57-7ddb3f5f</td>\n",
       "      <td>0.182250</td>\n",
       "      <td>0.611718</td>\n",
       "      <td>0.343113</td>\n",
       "      <td>0.285934</td>\n",
       "      <td>0.589168</td>\n",
       "      <td>0.221845</td>\n",
       "      <td>0.332137</td>\n",
       "      <td>0.225033</td>\n",
       "      <td>0.187840</td>\n",
       "      <td>...</td>\n",
       "      <td>0.229469</td>\n",
       "      <td>0.257269</td>\n",
       "      <td>0.126203</td>\n",
       "      <td>0.388263</td>\n",
       "      <td>0.109379</td>\n",
       "      <td>0.113550</td>\n",
       "      <td>0.265342</td>\n",
       "      <td>0.307235</td>\n",
       "      <td>0.118208</td>\n",
       "      <td>0.277249</td>\n",
       "    </tr>\n",
       "    <tr>\n",
       "      <th>1</th>\n",
       "      <td>7fdad032-90608fe2-c1f5a700-bf95f6f9-e9b0dbc7</td>\n",
       "      <td>0.188554</td>\n",
       "      <td>0.733192</td>\n",
       "      <td>0.176213</td>\n",
       "      <td>0.309677</td>\n",
       "      <td>0.594983</td>\n",
       "      <td>0.190225</td>\n",
       "      <td>0.273980</td>\n",
       "      <td>0.474208</td>\n",
       "      <td>0.162861</td>\n",
       "      <td>...</td>\n",
       "      <td>0.336326</td>\n",
       "      <td>0.346683</td>\n",
       "      <td>0.237759</td>\n",
       "      <td>0.494115</td>\n",
       "      <td>0.102404</td>\n",
       "      <td>0.125139</td>\n",
       "      <td>0.347526</td>\n",
       "      <td>0.268361</td>\n",
       "      <td>0.143047</td>\n",
       "      <td>0.436949</td>\n",
       "    </tr>\n",
       "    <tr>\n",
       "      <th>2</th>\n",
       "      <td>8b88f03a-2004113d-4118def5-35820db5-d0913df8</td>\n",
       "      <td>0.256748</td>\n",
       "      <td>0.616698</td>\n",
       "      <td>0.222315</td>\n",
       "      <td>0.332335</td>\n",
       "      <td>0.551194</td>\n",
       "      <td>0.159743</td>\n",
       "      <td>0.200137</td>\n",
       "      <td>0.294010</td>\n",
       "      <td>0.087097</td>\n",
       "      <td>...</td>\n",
       "      <td>0.320220</td>\n",
       "      <td>0.261468</td>\n",
       "      <td>0.182192</td>\n",
       "      <td>0.438836</td>\n",
       "      <td>0.049597</td>\n",
       "      <td>0.084579</td>\n",
       "      <td>0.219485</td>\n",
       "      <td>0.305169</td>\n",
       "      <td>0.071268</td>\n",
       "      <td>0.204907</td>\n",
       "    </tr>\n",
       "    <tr>\n",
       "      <th>3</th>\n",
       "      <td>e4ee2428-245e9222-399ef211-62b44204-35580e8d</td>\n",
       "      <td>0.355310</td>\n",
       "      <td>0.601900</td>\n",
       "      <td>0.402589</td>\n",
       "      <td>0.426300</td>\n",
       "      <td>0.596200</td>\n",
       "      <td>0.115664</td>\n",
       "      <td>0.298513</td>\n",
       "      <td>0.289182</td>\n",
       "      <td>0.081456</td>\n",
       "      <td>...</td>\n",
       "      <td>0.398963</td>\n",
       "      <td>0.328726</td>\n",
       "      <td>0.279989</td>\n",
       "      <td>0.484472</td>\n",
       "      <td>0.044968</td>\n",
       "      <td>0.127768</td>\n",
       "      <td>0.300531</td>\n",
       "      <td>0.293487</td>\n",
       "      <td>0.168122</td>\n",
       "      <td>0.241923</td>\n",
       "    </tr>\n",
       "    <tr>\n",
       "      <th>4</th>\n",
       "      <td>2630b0b8-2d5af3a6-1a02c2ca-952e9535-b44c35ee</td>\n",
       "      <td>0.218914</td>\n",
       "      <td>0.782368</td>\n",
       "      <td>0.317242</td>\n",
       "      <td>0.331897</td>\n",
       "      <td>0.699162</td>\n",
       "      <td>0.235713</td>\n",
       "      <td>0.417185</td>\n",
       "      <td>0.540468</td>\n",
       "      <td>0.182036</td>\n",
       "      <td>...</td>\n",
       "      <td>0.314578</td>\n",
       "      <td>0.421755</td>\n",
       "      <td>0.300189</td>\n",
       "      <td>0.496728</td>\n",
       "      <td>0.144357</td>\n",
       "      <td>0.190964</td>\n",
       "      <td>0.387878</td>\n",
       "      <td>0.387140</td>\n",
       "      <td>0.176693</td>\n",
       "      <td>0.526943</td>\n",
       "    </tr>\n",
       "  </tbody>\n",
       "</table>\n",
       "<p>5 rows × 27 columns</p>\n",
       "</div>"
      ],
      "text/plain": [
       "                                       dicom_id  Fracture  Pneumonia  \\\n",
       "0  2833b85f-3bb4273f-cffd3794-2bf2cd57-7ddb3f5f  0.182250   0.611718   \n",
       "1  7fdad032-90608fe2-c1f5a700-bf95f6f9-e9b0dbc7  0.188554   0.733192   \n",
       "2  8b88f03a-2004113d-4118def5-35820db5-d0913df8  0.256748   0.616698   \n",
       "3  e4ee2428-245e9222-399ef211-62b44204-35580e8d  0.355310   0.601900   \n",
       "4  2630b0b8-2d5af3a6-1a02c2ca-952e9535-b44c35ee  0.218914   0.782368   \n",
       "\n",
       "   Cardiomegaly  Pleural Other  Infiltration  Pneumomediastinum     Edema  \\\n",
       "0      0.343113       0.285934      0.589168           0.221845  0.332137   \n",
       "1      0.176213       0.309677      0.594983           0.190225  0.273980   \n",
       "2      0.222315       0.332335      0.551194           0.159743  0.200137   \n",
       "3      0.402589       0.426300      0.596200           0.115664  0.298513   \n",
       "4      0.317242       0.331897      0.699162           0.235713  0.417185   \n",
       "\n",
       "   Lung Opacity  Pneumothorax  ...  Emphysema  Fibrosis  Atelectasis  \\\n",
       "0      0.225033      0.187840  ...   0.229469  0.257269     0.126203   \n",
       "1      0.474208      0.162861  ...   0.336326  0.346683     0.237759   \n",
       "2      0.294010      0.087097  ...   0.320220  0.261468     0.182192   \n",
       "3      0.289182      0.081456  ...   0.398963  0.328726     0.279989   \n",
       "4      0.540468      0.182036  ...   0.314578  0.421755     0.300189   \n",
       "\n",
       "     Nodule  Subcutaneous Emphysema  Pneumoperitoneum  Lung Lesion  \\\n",
       "0  0.388263                0.109379          0.113550     0.265342   \n",
       "1  0.494115                0.102404          0.125139     0.347526   \n",
       "2  0.438836                0.049597          0.084579     0.219485   \n",
       "3  0.484472                0.044968          0.127768     0.300531   \n",
       "4  0.496728                0.144357          0.190964     0.387878   \n",
       "\n",
       "   Enlarged Cardiomediastinum  Support Devices  Consolidation  \n",
       "0                    0.307235         0.118208       0.277249  \n",
       "1                    0.268361         0.143047       0.436949  \n",
       "2                    0.305169         0.071268       0.204907  \n",
       "3                    0.293487         0.168122       0.241923  \n",
       "4                    0.387140         0.176693       0.526943  \n",
       "\n",
       "[5 rows x 27 columns]"
      ]
     },
     "execution_count": 47,
     "metadata": {},
     "output_type": "execute_result"
    }
   ],
   "source": [
    "df_predictions.head()"
   ]
  },
  {
   "cell_type": "code",
   "execution_count": 48,
   "metadata": {},
   "outputs": [],
   "source": [
    "df_predictions.to_csv('submission.csv', index=False)"
   ]
  },
  {
   "cell_type": "code",
   "execution_count": null,
   "metadata": {},
   "outputs": [],
   "source": []
  }
 ],
 "metadata": {
  "kernelspec": {
   "display_name": "Thomas",
   "language": "python",
   "name": "python3"
  },
  "language_info": {
   "codemirror_mode": {
    "name": "ipython",
    "version": 3
   },
   "file_extension": ".py",
   "mimetype": "text/x-python",
   "name": "python",
   "nbconvert_exporter": "python",
   "pygments_lexer": "ipython3",
   "version": "3.10.9"
  },
  "orig_nbformat": 4
 },
 "nbformat": 4,
 "nbformat_minor": 2
}
